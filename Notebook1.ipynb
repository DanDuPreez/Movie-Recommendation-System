{
 "cells": [
  {
   "metadata": {},
   "cell_type": "markdown",
   "source": "# Popularity-Based Filtering",
   "id": "41b663aa1ed26c75"
  },
  {
   "metadata": {},
   "cell_type": "markdown",
   "source": "### Load the data",
   "id": "edfbbb0dc9e4230e"
  },
  {
   "metadata": {},
   "cell_type": "code",
   "source": [
    "import pandas as pd\n",
    "\n",
    "movies = pd.read_csv('data/movies.csv')\n",
    "credits = pd.read_csv('data/credits.csv')\n",
    "ratings = pd.read_csv('data/ratings.csv')"
   ],
   "id": "e7812ec0b9c6013f",
   "outputs": [],
   "execution_count": null
  },
  {
   "metadata": {},
   "cell_type": "code",
   "source": "movies.head()",
   "id": "c5ddfe436f944b45",
   "outputs": [],
   "execution_count": null
  },
  {
   "metadata": {},
   "cell_type": "code",
   "source": "credits.head()",
   "id": "9207e8f75b57d2e",
   "outputs": [],
   "execution_count": null
  },
  {
   "metadata": {},
   "cell_type": "code",
   "source": "ratings.head()",
   "id": "349ac5b3ce885795",
   "outputs": [],
   "execution_count": null
  },
  {
   "metadata": {},
   "cell_type": "markdown",
   "source": "### Calculate a weighted rating",
   "id": "a43a042b99781f0a"
  },
  {
   "metadata": {},
   "cell_type": "markdown",
   "source": [
    "WR = (v ÷ (v+m)) × R + (m ÷ (v+m)) × C\n",
    "v - number of votes for a movie\n",
    "m - minimum number of votes required\n",
    "R - average rating of the movie\n",
    "C - average rating across all movies"
   ],
   "id": "976cf104de787ede"
  },
  {
   "metadata": {},
   "cell_type": "code",
   "source": [
    "m = movies['vote_count'].quantile(0.9)\n",
    "m"
   ],
   "id": "f6aebdce4f951a19",
   "outputs": [],
   "execution_count": null
  },
  {
   "metadata": {},
   "cell_type": "code",
   "source": [
    "C = movies['vote_average'].mean()\n",
    "C"
   ],
   "id": "900723ceafd58890",
   "outputs": [],
   "execution_count": null
  },
  {
   "metadata": {},
   "cell_type": "code",
   "source": "movies_filtered = movies.copy().loc[movies['vote_count'] >= m]",
   "id": "8305bfad8f78fcd6",
   "outputs": [],
   "execution_count": null
  },
  {
   "metadata": {},
   "cell_type": "code",
   "source": [
    "def weighted_rating(df, m=m, C=C):\n",
    "    R = df['vote_average']\n",
    "    v = df['vote_count']\n",
    "    wr = ((v / v+m) * R) + (m / (v+m) * C)\n",
    "    return wr"
   ],
   "id": "b15ad114d09be6d8",
   "outputs": [],
   "execution_count": null
  },
  {
   "metadata": {},
   "cell_type": "code",
   "source": [
    "movies_filtered['weighted_rating'] = movies_filtered.apply(weighted_rating, axis=1)\n",
    "movies_filtered"
   ],
   "id": "a9775833c9d57df5",
   "outputs": [],
   "execution_count": null
  },
  {
   "metadata": {},
   "cell_type": "code",
   "source": "movies_filtered.sort_values('weighted_rating', ascending=False).head(10)",
   "id": "2b308c8e74f25edc",
   "outputs": [],
   "execution_count": null
  },
  {
   "metadata": {},
   "cell_type": "code",
   "source": "",
   "id": "47981f984927185c",
   "outputs": [],
   "execution_count": null
  }
 ],
 "metadata": {
  "kernelspec": {
   "display_name": "Python 3",
   "language": "python",
   "name": "python3"
  },
  "language_info": {
   "codemirror_mode": {
    "name": "ipython",
    "version": 2
   },
   "file_extension": ".py",
   "mimetype": "text/x-python",
   "name": "python",
   "nbconvert_exporter": "python",
   "pygments_lexer": "ipython2",
   "version": "2.7.6"
  }
 },
 "nbformat": 4,
 "nbformat_minor": 5
}
