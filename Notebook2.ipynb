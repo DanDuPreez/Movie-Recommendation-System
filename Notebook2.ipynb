{
 "cells": [
  {
   "metadata": {},
   "cell_type": "markdown",
   "source": "# Content-Based Filtering",
   "id": "9709d7aede9776b8"
  },
  {
   "cell_type": "code",
   "id": "initial_id",
   "metadata": {
    "collapsed": true
   },
   "source": [
    "import pandas as pd\n",
    "movies2 = pd.read_csv('data/movies_small.csv', sep=\";\")"
   ],
   "outputs": [],
   "execution_count": null
  },
  {
   "metadata": {},
   "cell_type": "code",
   "source": "movies2",
   "id": "38d0482f0510ca82",
   "outputs": [],
   "execution_count": null
  },
  {
   "metadata": {},
   "cell_type": "code",
   "source": [
    "from sklearn.feature_extraction.text import TfidfVectorizer\n",
    "\n",
    "tfidf = TfidfVectorizer(stop_words='english')\n",
    "\n",
    "movies2[\"overview\"] = movies2[\"overview\"].fillna(\"\")"
   ],
   "id": "945dfd3e811d6da8",
   "outputs": [],
   "execution_count": null
  },
  {
   "metadata": {},
   "cell_type": "code",
   "source": "tfidf_matrix = tfidf.fit_transform(movies2[\"overview\"])",
   "id": "ed1e307150387dfa",
   "outputs": [],
   "execution_count": null
  },
  {
   "metadata": {},
   "cell_type": "code",
   "source": "pd.DataFrame(tfidf_matrix.toarray(), columns=tfidf.get_feature_names_out())",
   "id": "9d6943ed8f86dfe6",
   "outputs": [],
   "execution_count": null
  },
  {
   "metadata": {},
   "cell_type": "markdown",
   "source": "### Similarity matrix",
   "id": "84f9a243a9555538"
  },
  {
   "metadata": {},
   "cell_type": "code",
   "source": [
    "from sklearn.metrics.pairwise import linear_kernel\n",
    "similarity_matrix = linear_kernel(tfidf_matrix, tfidf_matrix)"
   ],
   "id": "13330fb3350aa88",
   "outputs": [],
   "execution_count": null
  },
  {
   "metadata": {},
   "cell_type": "code",
   "source": "similarity_matrix",
   "id": "2ce2b6003c1792fa",
   "outputs": [],
   "execution_count": null
  },
  {
   "metadata": {},
   "cell_type": "markdown",
   "source": "### Find the most similar movies to a certain movie",
   "id": "373e9d7ca1f7a802"
  },
  {
   "metadata": {},
   "cell_type": "code",
   "source": [
    "def similar_movies(movie_title, nr_movies):\n",
    "    idx = movies2.loc[movies2[\"title\"] == movie_title].index[0]\n",
    "    scores = list(enumerate(similarity_matrix[idx]))\n",
    "    scores = sorted(scores, key=lambda x: x[1], reverse=True)\n",
    "    movie_indices = [tpl[0] for tpl in scores[1:nr_movies + 1]]\n",
    "    similar_titles = list(movies2[\"title\"].iloc[movie_indices])\n",
    "    return similar_titles"
   ],
   "id": "a085f4ee63791023",
   "outputs": [],
   "execution_count": null
  },
  {
   "metadata": {},
   "cell_type": "code",
   "source": "similar_movies(\"Kung Fu Panda 3\", 3)",
   "id": "eca2018328747654",
   "outputs": [],
   "execution_count": null
  }
 ],
 "metadata": {
  "kernelspec": {
   "display_name": "Python 3",
   "language": "python",
   "name": "python3"
  },
  "language_info": {
   "codemirror_mode": {
    "name": "ipython",
    "version": 2
   },
   "file_extension": ".py",
   "mimetype": "text/x-python",
   "name": "python",
   "nbconvert_exporter": "python",
   "pygments_lexer": "ipython2",
   "version": "2.7.6"
  }
 },
 "nbformat": 4,
 "nbformat_minor": 5
}
